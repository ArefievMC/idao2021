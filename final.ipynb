{
 "cells": [
  {
   "cell_type": "code",
   "execution_count": 1,
   "id": "beginning-mistress",
   "metadata": {},
   "outputs": [],
   "source": [
    "import pandas as pd\n",
    "import numpy as np\n",
    "import os\n",
    "from PIL import Image\n",
    "from tqdm.notebook import tqdm\n",
    "from sklearn.model_selection import train_test_split"
   ]
  },
  {
   "cell_type": "code",
   "execution_count": 2,
   "id": "forty-disaster",
   "metadata": {},
   "outputs": [
    {
     "data": {
      "text/plain": [
       "(256.0, 256.0, 320.0, 320.0)"
      ]
     },
     "execution_count": 2,
     "metadata": {},
     "output_type": "execute_result"
    }
   ],
   "source": [
    "width, height = 576, 576\n",
    "\n",
    "new_width, new_height = 64, 64\n",
    "left = (width - new_width)/2\n",
    "top = (height - new_height)/2\n",
    "right = (width + new_width)/2\n",
    "bottom = (height + new_height)/2\n",
    "\n",
    "(left, top, right, bottom)"
   ]
  },
  {
   "cell_type": "code",
   "execution_count": 3,
   "id": "indie-compatibility",
   "metadata": {},
   "outputs": [],
   "source": [
    "path =  os.path.join('idao_dataset', 'train', 'ER')\n",
    "list_file_name = []\n",
    "for x in os.listdir(path):\n",
    "    list_file_name += [ os.path.join(path, x)] \n",
    "    \n",
    "target_regres = []  \n",
    "target_class = []\n",
    "for name in list_file_name:\n",
    "    names = os.path.split(name)[-1].split(\"_\")\n",
    "    idx = [i for i, v in enumerate(names) if v == \"keV\"][0]\n",
    "    target_regres += [int(names[idx - 1])]\n",
    "    target_class += [0]\n",
    "    \n",
    "path =  os.path.join('idao_dataset', 'train', 'NR')\n",
    "for x in os.listdir(path):\n",
    "    list_file_name += [ os.path.join(path, x)] \n",
    "    \n",
    "ltr = len(target_regres)\n",
    "for name in list_file_name[ltr:]:\n",
    "    names = os.path.split(name)[-1].split(\"_\")\n",
    "    idx = [i for i, v in enumerate(names) if v == \"keV\"][0]\n",
    "    target_regres += [int(names[idx - 1])]\n",
    "    target_class += [1]"
   ]
  },
  {
   "cell_type": "code",
   "execution_count": 4,
   "id": "desperate-weight",
   "metadata": {},
   "outputs": [
    {
     "data": {
      "application/vnd.jupyter.widget-view+json": {
       "model_id": "050d35cdf4d1454394841dd0e6d02603",
       "version_major": 2,
       "version_minor": 0
      },
      "text/plain": [
       "  0%|          | 0/13404 [00:00<?, ?it/s]"
      ]
     },
     "metadata": {},
     "output_type": "display_data"
    }
   ],
   "source": [
    "img_array_train = []\n",
    "for path in tqdm(list_file_name):\n",
    "    with Image.open(path) as img:\n",
    "        img = img.crop((224.0, 224.0, 352.0, 352.0))\n",
    "        img_array_train += [ np.array(img) ]"
   ]
  },
  {
   "cell_type": "code",
   "execution_count": 5,
   "id": "empty-prize",
   "metadata": {},
   "outputs": [],
   "source": [
    "train_index, test_index = train_test_split(np.arange(len(img_array_train)), test_size  = 0.2 ,shuffle=True, random_state = 228)"
   ]
  },
  {
   "cell_type": "code",
   "execution_count": 6,
   "id": "productive-storage",
   "metadata": {},
   "outputs": [
    {
     "data": {
      "text/plain": [
       "Counter({1: 395, 30: 432, 3: 453, 10: 472, 20: 456, 6: 473})"
      ]
     },
     "execution_count": 6,
     "metadata": {},
     "output_type": "execute_result"
    }
   ],
   "source": [
    "from collections import Counter\n",
    "Counter(np.array(target_regres)[test_index])\n",
    "# Counter({1: 395, 30: 432, 3: 453, 10: 472, 20: 456, 6: 473})\n",
    "# "
   ]
  },
  {
   "cell_type": "code",
   "execution_count": 7,
   "id": "military-provincial",
   "metadata": {},
   "outputs": [],
   "source": [
    "from numpy import array\n",
    "from keras.preprocessing.text import one_hot\n",
    "from keras.preprocessing.sequence import pad_sequences\n",
    "from keras.models import Sequential\n",
    "from keras.layers.core import Activation, Dropout, Dense\n",
    "from keras.layers import Flatten, LSTM, Conv2D, MaxPool2D, BatchNormalization, LeakyReLU, AveragePooling2D\n",
    "from keras.layers import GlobalMaxPooling1D, GlobalMaxPool1D, BatchNormalization, ReLU\n",
    "from keras.models import Model\n",
    "from keras.layers.embeddings import Embedding\n",
    "from sklearn.model_selection import train_test_split\n",
    "from keras.preprocessing.text import Tokenizer\n",
    "from keras.layers import Input\n",
    "from keras.layers.merge import Concatenate, concatenate\n",
    "from keras.optimizers import Adam\n",
    "from keras.callbacks import LearningRateScheduler\n",
    "import pandas as pd\n",
    "import numpy as np\n",
    "from keras.regularizers import L1L2\n",
    "import tensorflow as tf\n",
    "import re\n",
    "from keras import regularizers\n",
    "import matplotlib.pyplot as plt\n",
    "from keras.regularizers import l2\n",
    "from keras import backend as K \n",
    "\n",
    "K.clear_session()"
   ]
  },
  {
   "cell_type": "code",
   "execution_count": 8,
   "id": "toxic-playing",
   "metadata": {},
   "outputs": [],
   "source": [
    "target_class = np.array(target_class)"
   ]
  },
  {
   "cell_type": "code",
   "execution_count": 9,
   "id": "prescription-breathing",
   "metadata": {},
   "outputs": [],
   "source": [
    "img_array_train = np.expand_dims(img_array_train, axis = -1)"
   ]
  },
  {
   "cell_type": "code",
   "execution_count": 10,
   "id": "organized-boost",
   "metadata": {},
   "outputs": [],
   "source": [
    "target_regres_new = np.zeros((len(target_regres), 6))\n",
    "dict_change = {1:0, 3:1, 6:2, 10:3,20:4,30:5}"
   ]
  },
  {
   "cell_type": "code",
   "execution_count": 11,
   "id": "hindu-camcorder",
   "metadata": {},
   "outputs": [],
   "source": [
    "for i, x in enumerate(target_regres):\n",
    "    target_regres_new[i, dict_change[x]] = 1"
   ]
  },
  {
   "cell_type": "code",
   "execution_count": 12,
   "id": "adequate-lobby",
   "metadata": {},
   "outputs": [],
   "source": [
    "# target_regres_new\n",
    "# model_reg.summary()"
   ]
  },
  {
   "cell_type": "code",
   "execution_count": 13,
   "id": "together-mobility",
   "metadata": {},
   "outputs": [],
   "source": [
    "target_regres = np.array(target_regres)"
   ]
  },
  {
   "cell_type": "code",
   "execution_count": 14,
   "id": "abstract-software",
   "metadata": {},
   "outputs": [],
   "source": [
    "img_array_train = img_array_train / 255"
   ]
  },
  {
   "cell_type": "code",
   "execution_count": 15,
   "id": "banner-eight",
   "metadata": {},
   "outputs": [],
   "source": [
    "import math\n",
    "def step_decay(epoch):\n",
    "    initial_lrate = 0.0005\n",
    "    drop = 0.975\n",
    "    epochs_drop = 1.0\n",
    "    lrate = initial_lrate * math.pow(drop,  \n",
    "           math.floor((1+epoch)/epochs_drop))\n",
    "#     print(lrate)\n",
    "    return lrate\n",
    "lrate = LearningRateScheduler(step_decay)"
   ]
  },
  {
   "cell_type": "code",
   "execution_count": 16,
   "id": "stock-zealand",
   "metadata": {
    "scrolled": false
   },
   "outputs": [
    {
     "name": "stdout",
     "output_type": "stream",
     "text": [
      "Model: \"functional_1\"\n",
      "_________________________________________________________________\n",
      "Layer (type)                 Output Shape              Param #   \n",
      "=================================================================\n",
      "input_1 (InputLayer)         [(None, 128, 128, 1)]     0         \n",
      "_________________________________________________________________\n",
      "conv2d (Conv2D)              (None, 123, 123, 20)      740       \n",
      "_________________________________________________________________\n",
      "max_pooling2d (MaxPooling2D) (None, 28, 28, 20)        0         \n",
      "_________________________________________________________________\n",
      "batch_normalization (BatchNo (None, 28, 28, 20)        80        \n",
      "_________________________________________________________________\n",
      "flatten (Flatten)            (None, 15680)             0         \n",
      "_________________________________________________________________\n",
      "dropout (Dropout)            (None, 15680)             0         \n",
      "_________________________________________________________________\n",
      "dense (Dense)                (None, 100)               1568100   \n",
      "_________________________________________________________________\n",
      "dense_1 (Dense)              (None, 6)                 606       \n",
      "=================================================================\n",
      "Total params: 1,569,526\n",
      "Trainable params: 1,569,486\n",
      "Non-trainable params: 40\n",
      "_________________________________________________________________\n",
      "None\n",
      "Epoch 1/50\n",
      "72/72 [==============================] - 3s 41ms/step - loss: 0.4336 - accuracy: 0.8390 - val_loss: 0.1225 - val_accuracy: 0.9672\n",
      "Epoch 2/50\n",
      "72/72 [==============================] - 3s 36ms/step - loss: 0.0829 - accuracy: 0.9745 - val_loss: 0.0657 - val_accuracy: 0.9884\n",
      "Epoch 3/50\n",
      "72/72 [==============================] - 3s 36ms/step - loss: 0.0474 - accuracy: 0.9861 - val_loss: 0.0551 - val_accuracy: 0.9881\n",
      "Epoch 4/50\n",
      "72/72 [==============================] - 3s 36ms/step - loss: 0.0300 - accuracy: 0.9916 - val_loss: 0.0325 - val_accuracy: 0.9892\n",
      "Epoch 5/50\n",
      "72/72 [==============================] - 3s 36ms/step - loss: 0.0347 - accuracy: 0.9895 - val_loss: 0.0098 - val_accuracy: 0.9978\n",
      "Epoch 6/50\n",
      "72/72 [==============================] - 3s 36ms/step - loss: 0.0193 - accuracy: 0.9944 - val_loss: 0.0125 - val_accuracy: 0.9974\n",
      "Epoch 7/50\n",
      "72/72 [==============================] - 3s 36ms/step - loss: 0.0189 - accuracy: 0.9950 - val_loss: 0.0095 - val_accuracy: 0.9989\n",
      "Epoch 8/50\n",
      "72/72 [==============================] - 3s 36ms/step - loss: 0.0196 - accuracy: 0.9951 - val_loss: 0.0191 - val_accuracy: 0.9955\n",
      "Epoch 9/50\n",
      "72/72 [==============================] - 3s 36ms/step - loss: 0.0136 - accuracy: 0.9958 - val_loss: 0.0181 - val_accuracy: 0.9970\n",
      "Epoch 10/50\n",
      "72/72 [==============================] - 3s 36ms/step - loss: 0.0177 - accuracy: 0.9940 - val_loss: 0.0094 - val_accuracy: 0.9974\n",
      "Epoch 11/50\n",
      "72/72 [==============================] - 3s 36ms/step - loss: 0.0120 - accuracy: 0.9963 - val_loss: 0.0062 - val_accuracy: 0.9993\n",
      "Epoch 12/50\n",
      "72/72 [==============================] - 3s 36ms/step - loss: 0.0120 - accuracy: 0.9962 - val_loss: 0.0068 - val_accuracy: 0.9974\n",
      "Epoch 13/50\n",
      "72/72 [==============================] - 3s 36ms/step - loss: 0.0095 - accuracy: 0.9972 - val_loss: 0.0066 - val_accuracy: 0.9978\n",
      "Epoch 14/50\n",
      "72/72 [==============================] - 3s 36ms/step - loss: 0.0084 - accuracy: 0.9969 - val_loss: 0.0043 - val_accuracy: 0.9985\n",
      "Epoch 15/50\n",
      "72/72 [==============================] - 3s 36ms/step - loss: 0.0109 - accuracy: 0.9962 - val_loss: 0.0056 - val_accuracy: 0.9974\n",
      "Epoch 16/50\n",
      "72/72 [==============================] - 3s 36ms/step - loss: 0.0088 - accuracy: 0.9968 - val_loss: 0.0076 - val_accuracy: 0.9974\n",
      "Epoch 17/50\n",
      "72/72 [==============================] - 3s 36ms/step - loss: 0.0131 - accuracy: 0.9960 - val_loss: 0.0234 - val_accuracy: 0.9959\n",
      "Epoch 18/50\n",
      "72/72 [==============================] - 3s 36ms/step - loss: 0.0141 - accuracy: 0.9972 - val_loss: 0.0161 - val_accuracy: 0.9966\n",
      "Epoch 19/50\n",
      "72/72 [==============================] - 3s 36ms/step - loss: 0.0077 - accuracy: 0.9975 - val_loss: 0.0051 - val_accuracy: 0.9981\n",
      "Epoch 20/50\n",
      "72/72 [==============================] - 3s 37ms/step - loss: 0.0138 - accuracy: 0.9956 - val_loss: 0.0068 - val_accuracy: 0.9989\n",
      "Epoch 21/50\n",
      "72/72 [==============================] - 3s 36ms/step - loss: 0.0054 - accuracy: 0.9984 - val_loss: 0.0051 - val_accuracy: 0.9989\n",
      "Epoch 22/50\n",
      "72/72 [==============================] - 3s 36ms/step - loss: 0.0078 - accuracy: 0.9976 - val_loss: 0.0058 - val_accuracy: 0.9970\n",
      "Epoch 23/50\n",
      "72/72 [==============================] - 3s 36ms/step - loss: 0.0064 - accuracy: 0.9979 - val_loss: 0.0044 - val_accuracy: 0.9993\n",
      "Epoch 24/50\n",
      "72/72 [==============================] - 3s 36ms/step - loss: 0.0063 - accuracy: 0.9978 - val_loss: 0.0190 - val_accuracy: 0.9948\n",
      "Epoch 25/50\n",
      "72/72 [==============================] - 3s 36ms/step - loss: 0.0060 - accuracy: 0.9977 - val_loss: 0.0098 - val_accuracy: 0.9952\n",
      "Epoch 26/50\n",
      "72/72 [==============================] - 3s 36ms/step - loss: 0.0069 - accuracy: 0.9977 - val_loss: 0.0068 - val_accuracy: 0.9989\n",
      "Epoch 27/50\n",
      "72/72 [==============================] - 3s 36ms/step - loss: 0.0066 - accuracy: 0.9972 - val_loss: 0.0033 - val_accuracy: 0.9989\n",
      "Epoch 28/50\n",
      "72/72 [==============================] - 3s 36ms/step - loss: 0.0065 - accuracy: 0.9979 - val_loss: 0.0066 - val_accuracy: 0.9981\n",
      "Epoch 29/50\n",
      "72/72 [==============================] - 3s 36ms/step - loss: 0.0088 - accuracy: 0.9978 - val_loss: 0.0166 - val_accuracy: 0.9959\n",
      "Epoch 30/50\n",
      "72/72 [==============================] - 3s 36ms/step - loss: 0.0057 - accuracy: 0.9974 - val_loss: 0.0064 - val_accuracy: 0.9970\n",
      "Epoch 31/50\n",
      "72/72 [==============================] - 3s 36ms/step - loss: 0.0042 - accuracy: 0.9988 - val_loss: 0.0039 - val_accuracy: 0.9993\n",
      "Epoch 32/50\n",
      "72/72 [==============================] - 3s 36ms/step - loss: 0.0043 - accuracy: 0.9984 - val_loss: 0.0051 - val_accuracy: 0.9985\n",
      "Epoch 33/50\n",
      "72/72 [==============================] - 3s 36ms/step - loss: 0.0084 - accuracy: 0.9970 - val_loss: 0.0181 - val_accuracy: 0.9966\n",
      "Epoch 34/50\n",
      "72/72 [==============================] - 3s 36ms/step - loss: 0.0048 - accuracy: 0.9988 - val_loss: 0.0026 - val_accuracy: 0.9989\n",
      "Epoch 35/50\n",
      "72/72 [==============================] - 3s 36ms/step - loss: 0.0037 - accuracy: 0.9989 - val_loss: 0.0048 - val_accuracy: 0.9978\n",
      "Epoch 36/50\n",
      "72/72 [==============================] - 3s 37ms/step - loss: 0.0048 - accuracy: 0.9982 - val_loss: 0.0113 - val_accuracy: 0.9966\n",
      "Epoch 37/50\n",
      "72/72 [==============================] - 3s 36ms/step - loss: 0.0050 - accuracy: 0.9980 - val_loss: 0.0106 - val_accuracy: 0.9978\n",
      "Epoch 38/50\n",
      "72/72 [==============================] - 3s 36ms/step - loss: 0.0032 - accuracy: 0.9991 - val_loss: 0.0054 - val_accuracy: 0.9985\n",
      "Epoch 39/50\n",
      "72/72 [==============================] - 3s 36ms/step - loss: 0.0040 - accuracy: 0.9984 - val_loss: 0.0034 - val_accuracy: 0.9985\n",
      "Epoch 40/50\n",
      "72/72 [==============================] - 3s 37ms/step - loss: 0.0047 - accuracy: 0.9982 - val_loss: 0.0155 - val_accuracy: 0.9970\n",
      "Epoch 41/50\n",
      "72/72 [==============================] - 3s 37ms/step - loss: 0.0041 - accuracy: 0.9985 - val_loss: 0.0063 - val_accuracy: 0.9985\n",
      "Epoch 42/50\n",
      "72/72 [==============================] - 3s 37ms/step - loss: 0.0036 - accuracy: 0.9988 - val_loss: 0.0028 - val_accuracy: 0.9993\n",
      "Epoch 43/50\n",
      "72/72 [==============================] - 3s 37ms/step - loss: 0.0066 - accuracy: 0.9976 - val_loss: 0.0045 - val_accuracy: 0.9985\n",
      "Epoch 44/50\n",
      "72/72 [==============================] - 3s 37ms/step - loss: 0.0046 - accuracy: 0.9985 - val_loss: 0.0022 - val_accuracy: 0.9993\n",
      "Epoch 45/50\n",
      "72/72 [==============================] - 3s 37ms/step - loss: 0.0038 - accuracy: 0.9988 - val_loss: 0.0037 - val_accuracy: 0.9989\n",
      "Epoch 46/50\n",
      "72/72 [==============================] - 3s 37ms/step - loss: 0.0050 - accuracy: 0.9989 - val_loss: 0.0108 - val_accuracy: 0.9963\n",
      "Epoch 47/50\n",
      "72/72 [==============================] - 3s 36ms/step - loss: 0.0035 - accuracy: 0.9988 - val_loss: 0.0062 - val_accuracy: 0.9989\n",
      "Epoch 48/50\n",
      "72/72 [==============================] - 3s 37ms/step - loss: 0.0040 - accuracy: 0.9990 - val_loss: 0.0050 - val_accuracy: 0.9985\n"
     ]
    },
    {
     "name": "stdout",
     "output_type": "stream",
     "text": [
      "Epoch 49/50\n",
      "72/72 [==============================] - 3s 36ms/step - loss: 0.0044 - accuracy: 0.9987 - val_loss: 0.0057 - val_accuracy: 0.9981\n",
      "Epoch 50/50\n",
      "72/72 [==============================] - 3s 36ms/step - loss: 0.0041 - accuracy: 0.9986 - val_loss: 0.0071 - val_accuracy: 0.9985\n"
     ]
    }
   ],
   "source": [
    "adam = Adam(learning_rate=0.001)\n",
    "krl = regularizers.l2(0.00)\n",
    "inputs = Input(shape=(img_array_train.shape[1],img_array_train.shape[2], 1),)\n",
    "hui = Conv2D(20, kernel_size = 6)(inputs)\n",
    "# hui = BatchNormalization(momentum=0.1, axis=-1)(hui)\n",
    "# hui = ReLU()(hui)\n",
    "# hui = Dropout(0.3)(hui)\n",
    "\n",
    "mp = MaxPool2D(12, strides = (4, 4))(hui)\n",
    "mp = BatchNormalization(momentum=0.05, axis=-1)(mp)\n",
    "# mp = ReLU()(mp).\n",
    "fl = Flatten()(mp)\n",
    "fl = Dropout(0.7)(fl)\n",
    "fl = Dense(100, activation = 'relu', kernel_regularizer=krl)(fl)\n",
    "outputs = Dense(6, activation='softmax')(fl)\n",
    "\n",
    "\n",
    "checkpoint_path = \"reg_saved-model-{epoch:02d}.hdf5\"\n",
    "cp_callback = tf.keras.callbacks.ModelCheckpoint(filepath=checkpoint_path, monitor = 'val_loss',\n",
    "                                                 \n",
    "                                                 save_best_only=False, save_weights_only=True, verbose=0)\n",
    "\n",
    "model_reg = Model(inputs=inputs, outputs=outputs)\n",
    "model_reg.compile(loss='categorical_crossentropy',optimizer=adam,  metrics=['accuracy'])\n",
    "\n",
    "print(model_reg.summary())\n",
    "\n",
    "history = model_reg.fit(img_array_train[train_index], target_regres_new[train_index], \n",
    "batch_size=150, epochs=50, verbose=1, shuffle  = True, callbacks=[cp_callback, lrate],\n",
    "#                         class_weight = {0:1,1:2,2:3,3:5,4:7,5:10},\n",
    "                        validation_batch_size = 150,\n",
    "    validation_data=((img_array_train[test_index],  target_regres_new[test_index])) )\n",
    "#                         , \n",
    "#                  sample_weight =  target_regres[train_index] ** (1/3) )\n",
    "\n",
    "# del model\n",
    "# del adam\n",
    "# K.clear_session()"
   ]
  },
  {
   "cell_type": "code",
   "execution_count": null,
   "id": "sought-stomach",
   "metadata": {},
   "outputs": [],
   "source": []
  }
 ],
 "metadata": {
  "kernelspec": {
   "display_name": "Python 3",
   "language": "python",
   "name": "python3"
  },
  "language_info": {
   "codemirror_mode": {
    "name": "ipython",
    "version": 3
   },
   "file_extension": ".py",
   "mimetype": "text/x-python",
   "name": "python",
   "nbconvert_exporter": "python",
   "pygments_lexer": "ipython3",
   "version": "3.8.3"
  }
 },
 "nbformat": 4,
 "nbformat_minor": 5
}
